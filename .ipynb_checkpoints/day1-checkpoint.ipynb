{
 "cells": [
  {
   "cell_type": "markdown",
   "metadata": {},
   "source": [
    "# class exercise"
   ]
  },
  {
   "cell_type": "code",
   "execution_count": 2,
   "metadata": {},
   "outputs": [
    {
     "name": "stdout",
     "output_type": "stream",
     "text": [
      "[1, 3, 5, 7, 9, 11, 13, 15, 17, 19]\n",
      "2\n",
      "1000000\n",
      "250000500000\n",
      "[3, 6, 9, 12, 15, 18, 21, 24, 27, 30, 33, 36, 39, 42, 45, 48, 51, 54, 57, 60, 63, 66, 69, 72, 75, 78, 81, 84, 87, 90, 93, 96, 99, 102, 105, 108, 111, 114, 117, 120, 123, 126, 129, 132, 135, 138, 141, 144, 147, 150, 153, 156, 159, 162, 165, 168, 171, 174, 177, 180, 183, 186, 189, 192, 195, 198, 201, 204, 207, 210, 213, 216, 219, 222, 225, 228, 231, 234, 237, 240, 243, 246, 249, 252, 255, 258, 261, 264, 267, 270, 273, 276, 279, 282, 285, 288, 291, 294, 297, 300]\n",
      "[1, 8, 27, 64, 125, 216, 343, 512, 729, 1000]\n"
     ]
    }
   ],
   "source": [
    "\n",
    "oddNums = [i for i in range(20) if i%2 != 0]\n",
    "print(oddNums)\n",
    "\n",
    "def sum_even():\n",
    "    evenNums = range(2, 1000002,2) \n",
    "    print(min(evenNums))\n",
    "    print(max(evenNums))\n",
    "    print(sum(evenNums))\n",
    "sum_even()\n",
    "\n",
    "def ofThree():\n",
    "    my_data = [i for i in range(3, 301) if i%3 == 0]\n",
    "    return my_data\n",
    "print(ofThree())\n",
    "\n",
    "def my_cube():\n",
    "    cubes = [i**3 for i in range(1,11)]\n",
    "    return cubes\n",
    "print(my_cube())"
   ]
  },
  {
   "cell_type": "markdown",
   "metadata": {},
   "source": [
    "# 01 Exercise"
   ]
  },
  {
   "cell_type": "markdown",
   "metadata": {},
   "source": [
    "1. Create 5 list comprehensions to solve the following 5 problems:\n",
    "  1. Iterate a list of names to return a list of the names starting with H\n",
    "  2. In one line create a list of the numbers 1-100 to the power of 3\n",
    "  3. Iterate a list of names to create a list of tuples where the tuples first value is the length of the name and the second is the name\n",
    "  4. Iterate over each character in a string and get only those that are nummeric\n",
    "  5. Using only a list comprehension wrapped in set() get all possible combination from throwing 2 dice (hint use 2 for loops in a single list comprehension)\n",
    "\n",
    "2. Create 2 dictionary comprehensions to solve the following:\n",
    "  1. Iterate a list of names and create a dictionary where key is the name and value is the length of the name\n",
    "  2. Iterate a list of numbers and create a dictionary with {key:value} being {number:squareroot_of_number}\n",
    "\n",
    "3. Extra assignment (This one goes beyond what is covered in the course notebooks. So only do it if you want an extra challenge).\n",
    "  - Progammatically using loops create a small program to produce a dictionary with all the 2 dice throw combinations as keys (eg: 2,3,4...etc) and their likelyhood in percent as values"
   ]
  },
  {
   "cell_type": "code",
   "execution_count": 4,
   "metadata": {},
   "outputs": [
    {
     "name": "stdout",
     "output_type": "stream",
     "text": [
      "['Hoover', 'Heinrich', 'heino']\n"
     ]
    }
   ],
   "source": [
    "#1. \n",
    "#A.\n",
    "random_names = [\"James Olsen\", \"Hoover Michaelson\", \"Heinrich Wunderbar\", \"Annette Nielsen\", \"heino hansen\"]\n",
    "\n",
    "def names_with_h(names):\n",
    "    my_h = [\"h\", \"H\"]\n",
    "    my_names = [name for name in names if(name[0] in my_h)]\n",
    "    return my_names\n",
    "print(names_with_h(random_names))\n",
    "\n",
    "#B.\n",
    "list_of_nums = [i**3 for i in range(1,101)]\n",
    "#print(list_of_nums)\n",
    "\n",
    "#C.\n",
    "def make_tuples(names):\n",
    "    my_tuples = [tuple(name.length)]"
   ]
  }
 ],
 "metadata": {
  "kernelspec": {
   "display_name": "Python 3",
   "language": "python",
   "name": "python3"
  },
  "language_info": {
   "codemirror_mode": {
    "name": "ipython",
    "version": 3
   },
   "file_extension": ".py",
   "mimetype": "text/x-python",
   "name": "python",
   "nbconvert_exporter": "python",
   "pygments_lexer": "ipython3",
   "version": "3.7.6"
  }
 },
 "nbformat": 4,
 "nbformat_minor": 4
}
